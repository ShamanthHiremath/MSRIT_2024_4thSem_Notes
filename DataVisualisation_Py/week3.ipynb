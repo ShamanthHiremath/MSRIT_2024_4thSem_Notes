{
 "cells": [
  {
   "cell_type": "code",
   "execution_count": 9,
   "id": "da188a63",
   "metadata": {},
   "outputs": [
    {
     "name": "stdout",
     "output_type": "stream",
     "text": [
      "120 16\n"
     ]
    }
   ],
   "source": [
    "def mult(nos):\n",
    "    if(len(nos)==0):\n",
    "        print(\"EMPTY LIST\")\n",
    "        return -1\n",
    "    prod=1\n",
    "    for i in nos:\n",
    "        prod*=i\n",
    "    \n",
    "    return prod\n",
    "\n",
    "def sum(nos):\n",
    "    if(len(nos)==0):\n",
    "        print(\"EMPTY LIST\")\n",
    "        return -1\n",
    "    summ=1\n",
    "    for i in nos:\n",
    "        summ+=i\n",
    "    \n",
    "    return summ\n",
    "\n",
    "arr=[1, 2, 3, 4, 5]\n",
    "\n",
    "print(f\"{mult(arr)} {sum(arr)}\")\n"
   ]
  },
  {
   "cell_type": "code",
   "execution_count": 12,
   "id": "8b5735e3",
   "metadata": {},
   "outputs": [
    {
     "name": "stdout",
     "output_type": "stream",
     "text": [
      "10\n",
      "1\n",
      "10\n"
     ]
    }
   ],
   "source": [
    "def secondMax(arr):\n",
    "    for i in range(2):\n",
    "#         largest=arr[i]\n",
    "        for j in range(len(arr)):\n",
    "            if(arr[i]>arr[j]):\n",
    "                arr[i], arr[j] = arr[j], arr[i]\n",
    "    return arr[-2]\n",
    "\n",
    "arr=[1, 2, 3, 10, 5]\n",
    "\n",
    "print(max(arr))\n",
    "print(min(arr))\n",
    "print(secondMax(arr))"
   ]
  },
  {
   "cell_type": "code",
   "execution_count": 1,
   "id": "ccf45f84",
   "metadata": {},
   "outputs": [
    {
     "name": "stdout",
     "output_type": "stream",
     "text": [
      "5 found at position 4\n",
      "5 not found\n"
     ]
    }
   ],
   "source": [
    "def linsearch(key, arr):\n",
    "    for i in range(len(arr)):\n",
    "        if(arr[i] == key):\n",
    "            print(f\"{key} found at position {i}\")\n",
    "    print(f\"{key} not found\")\n",
    "    \n",
    "arr = [9,8,7,6,5,4,3,2,1]\n",
    "\n",
    "linsearch(5, arr)"
   ]
  },
  {
   "cell_type": "code",
   "execution_count": 2,
   "id": "8a6dd1ef",
   "metadata": {},
   "outputs": [
    {
     "name": "stdout",
     "output_type": "stream",
     "text": [
      "6 found at position 5\n"
     ]
    }
   ],
   "source": [
    "def binsearch(s, e, key, arr):\n",
    "    mid = s+(e-s)//2\n",
    "    if(arr[mid] == key):\n",
    "        print(f\"{key} found at position {mid}\")\n",
    "        return\n",
    "    elif(arr[mid] > key):\n",
    "        binsearch(s, mid-1, key, arr)\n",
    "    else:\n",
    "        binsearch(mid+1, s, key, arr)\n",
    "\n",
    "arr =[1,2,3,4,5,6,6,7,8,9]\n",
    "binsearch(0, len(arr), 6, arr)"
   ]
  },
  {
   "cell_type": "code",
   "execution_count": 7,
   "id": "c260df6c",
   "metadata": {},
   "outputs": [
    {
     "name": "stdout",
     "output_type": "stream",
     "text": [
      "3\n",
      "Fibonacci( 0 ) = 0\n",
      "Fibonacci( 1 ) = 1\n",
      "Fibonacci( 2 ) = 1\n",
      "Fibonacci( 3 ) = 2\n",
      "Fibonacci( 4 ) = 3\n",
      "Fibonacci( 5 ) = 5\n",
      "Fibonacci( 6 ) = 8\n",
      "Fibonacci( 7 ) = 13\n",
      "Fibonacci( 8 ) = 21\n",
      "Fibonacci( 9 ) = 34\n",
      "Fibonacci( 10 ) = 55\n"
     ]
    }
   ],
   "source": [
    "def fibo(n):\n",
    "    if(n==0 or n==1):\n",
    "            return n\n",
    "    return fibo(n-1) + fibo(n-2)\n",
    "\n",
    "print(fibo(4))\n",
    "\n",
    "def display_fibo_up_to_n(n):\n",
    "    for i in range(n+1):\n",
    "        print(\"Fibonacci(\", i, \") =\", fibo(i))\n",
    "\n",
    "display_fibo_up_to_n(10)"
   ]
  },
  {
   "cell_type": "code",
   "execution_count": 13,
   "id": "c1ba8351",
   "metadata": {},
   "outputs": [
    {
     "name": "stdout",
     "output_type": "stream",
     "text": [
      "Roots are equal -1.0\n",
      "Roots are 0.2 and -1.6\n"
     ]
    }
   ],
   "source": [
    "def quadRoot(a, b, c):\n",
    "    d = b**2 - 4*a*c\n",
    "    if(d<0):\n",
    "        print(\"Indeterminate roots\")\n",
    "    elif(d==0):\n",
    "        root = -b/(2*a)\n",
    "        print(f\"Roots are equal {root}\")\n",
    "    else:\n",
    "        root1 = (-b + d)/(2*a)\n",
    "        root2 = (-b - d)/(2*a) \n",
    "        print(f\"Roots are {root1} and {root2}\")\n",
    "\n",
    "quadRoot(1, 2, 1)\n",
    "quadRoot(5, 7, 2)"
   ]
  },
  {
   "cell_type": "code",
   "execution_count": 14,
   "id": "06a6e538",
   "metadata": {},
   "outputs": [
    {
     "name": "stdout",
     "output_type": "stream",
     "text": [
      "Enter course 1: bka\n",
      "Enter course 2: ASD,AS'D\n",
      "Enter course 3: SA\n",
      "Enter course 4: D'AS\n",
      "Enter course 5: ASD\n",
      "Enter course 6: AD\n",
      "Enter course 7: A\n",
      "Enter course 8: DA\n",
      "Enter course 9: DA\n"
     ]
    }
   ],
   "source": [
    "def inputCourse(courses):\n",
    "    for i in range(9):\n",
    "        subj = input(f\"Enter course {i+1}: \")\n",
    "        courses.append(subj)\n",
    "\n",
    "courses = []\n",
    "inputCourse(courses)\n",
    "\n",
    "print(f\"2nd element: {courses[1]} and 5th element: {courses[4]}\")\n",
    "\n"
   ]
  },
  {
   "cell_type": "code",
   "execution_count": null,
   "id": "6c0027f9",
   "metadata": {},
   "outputs": [],
   "source": []
  },
  {
   "cell_type": "code",
   "execution_count": null,
   "id": "de9b48a8",
   "metadata": {},
   "outputs": [],
   "source": [
    "def inputCourse(courses):\n",
    "    for i in range(9):\n",
    "        subj = input(f\"Enter course {i+1}: \")\n",
    "        courses.append(subj)\n",
    "        \n",
    "def display(courses):\n",
    "    print(\"Courses: \")\n",
    "    for i in courses:\n",
    "        print(f\"{i}\")\n",
    "        \n",
    "\n",
    "\n",
    "courses = []\n",
    "inputCourse(courses)\n",
    "\n",
    "display(courses)\n",
    "\n",
    "print(f\"2nd element: {courses[1]} and 5th element: {courses[4]}\")\n",
    "\n",
    "print(\"First 5 subjects:\", \", \".join(courses[:5]))\n",
    "print(\"Last 5 subjects:\", \", \".join(courses[:5]))\n",
    "\n",
    "if \"pylab\" in courses:\n",
    "    print(\"PRESENT\")\n",
    "else:\n",
    "    print(\"ABSENT\")\n",
    "\n",
    "print(\"append() DEMO: \", courses.append(\"pylab\"))\n",
    "print(\"insert() DEMO: \", courses.insert(-1, \"pylab\"))\n",
    "print(\"remove() DEMO: \", courses.remove(\"pylab\"))\n",
    "print(\"pop() DEMO: \", courses.pop())"
   ]
  },
  {
   "cell_type": "code",
   "execution_count": null,
   "id": "0cf277a6",
   "metadata": {},
   "outputs": [],
   "source": []
  }
 ],
 "metadata": {
  "kernelspec": {
   "display_name": "Python 3 (ipykernel)",
   "language": "python",
   "name": "python3"
  },
  "language_info": {
   "codemirror_mode": {
    "name": "ipython",
    "version": 3
   },
   "file_extension": ".py",
   "mimetype": "text/x-python",
   "name": "python",
   "nbconvert_exporter": "python",
   "pygments_lexer": "ipython3",
   "version": "3.8.10"
  }
 },
 "nbformat": 4,
 "nbformat_minor": 5
}
