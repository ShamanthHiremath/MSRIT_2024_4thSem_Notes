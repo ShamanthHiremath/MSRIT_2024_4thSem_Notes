{
 "cells": [
  {
   "cell_type": "code",
   "execution_count": null,
   "id": "56274781",
   "metadata": {},
   "outputs": [],
   "source": [
    "import random \n",
    "\n",
    "num = int(input(\"enter a size of array : \"))\n",
    "k = int(input(\"enter k value : \"))\n",
    "\n",
    "arr = []\n",
    "ans = []\n",
    "\n",
    "for i in range(num):\n",
    "    arr.append(random.randint(-100, 100))\n",
    "    \n",
    "arr = tuple(arr)\n",
    "print(arr)\n",
    "\n",
    "L = list(arr)\n",
    "L.sort()\n",
    "\n",
    "ans += L[:k]\n",
    "ans += L[-k:]\n",
    "ans = tuple(ans)\n",
    "\n",
    "print(ans)\n"
   ]
  },
  {
   "cell_type": "code",
   "execution_count": null,
   "id": "bc3665a6",
   "metadata": {},
   "outputs": [],
   "source": [
    "strlist = [\"xyz\", \"shamanth\", \"aska\", \"haahhaha\"]\n",
    "\n",
    "tuplist = []\n",
    "\n",
    "for string in strlist:\n",
    "    tuplist.append((string, len(string)))\n",
    "\n",
    "print(tuplist)"
   ]
  },
  {
   "cell_type": "code",
   "execution_count": null,
   "id": "b6cd55f0",
   "metadata": {},
   "outputs": [],
   "source": [
    "\n",
    "capitals = {\"Karnataka\":\"Bengaluru\", \"Haryana\":\"Chandigarh\", \"Gujarat\":\"Ahmedabad\" , \"Maharashtra\":\"MUmbai\", \"Kerala\":\"Thiruvanantapuram\" }\n",
    "\n",
    "capitals.keys()\n",
    "capitals.values()\n",
    "capitals.items()\n",
    "capitals.get(\"Karnataka\")\n",
    "print(capitals)\n",
    "other_capitals = {\"Tamil Nadu\": \"Chennai\"}\n",
    "capitals.update(other_capitals)\n",
    "print(capitals)\n"
   ]
  },
  {
   "cell_type": "code",
   "execution_count": 5,
   "id": "79b5a6e6",
   "metadata": {},
   "outputs": [
    {
     "name": "stdout",
     "output_type": "stream",
     "text": [
      "All items in the dictionary:\n",
      "rahul : xyz\n",
      "sanchit : hawyeah\n",
      "saurabh : nikhil\n",
      "\n",
      "All keys in the dictionary:\n",
      "rahul\n",
      "sanchit\n",
      "saurabh\n",
      "\n",
      "All values in the dictionary:\n",
      "xyz\n",
      "hawyeah\n",
      "nikhil\n",
      "hawyeah\n",
      "\n",
      " I'm wet\n"
     ]
    }
   ],
   "source": [
    "users = {\n",
    "    \"rahul\": \"xyz\",\n",
    "    \"sanchit\": \"hawyeah\",\n",
    "    \"saurabh\": \"nikhil\",\n",
    "}\n",
    "\n",
    "print(\"All items in the dictionary:\")\n",
    "for key, value in users.items():\n",
    "    print(key, \":\", value)\n",
    "\n",
    "print(\"\\nAll keys in the dictionary:\")\n",
    "for key in users.keys():\n",
    "    print(key)\n",
    "\n",
    "print(\"\\nAll values in the dictionary:\")\n",
    "for value in users.values():\n",
    "    print(value)\n",
    "\n",
    "print(users[\"sanchit\"])\n",
    "\n",
    "users[\"sanchit\"] = \"I'm wet\"\n",
    "\n",
    "print(\"\\n\",users[\"sanchit\"])\n"
   ]
  },
  {
   "cell_type": "code",
   "execution_count": 14,
   "id": "67d2e2d0",
   "metadata": {
    "scrolled": true
   },
   "outputs": [
    {
     "name": "stdout",
     "output_type": "stream",
     "text": [
      "Enter string: cfghcjh,mvjm\n",
      "{'c': 2, 'f': 1, 'g': 1, 'h': 2, 'j': 2, ',': 1, 'm': 2, 'v': 1}\n"
     ]
    }
   ],
   "source": [
    "def char_freq(string):\n",
    "    new_str = string.lower()\n",
    "    freq = {}\n",
    "    for c in new_str:\n",
    "        if (c in freq):\n",
    "           freq[c] += 1\n",
    "        else:\n",
    "            freq[c] = 1\n",
    "    print(freq)\n",
    "    \n",
    "word = input(\"Enter string: \")\n",
    "char_freq(word)\n",
    "        "
   ]
  },
  {
   "cell_type": "code",
   "execution_count": 17,
   "id": "4d05c877",
   "metadata": {},
   "outputs": [
    {
     "name": "stdout",
     "output_type": "stream",
     "text": [
      "Random even integer between 1 and 100: 8\n"
     ]
    }
   ],
   "source": [
    "import random\n",
    "\n",
    "def random_even(start, end):\n",
    "    random_number = random.randint(start, end)\n",
    "    \n",
    "    if random_number % 2 != 0:\n",
    "        random_number += 1\n",
    "    return random_number\n",
    "\n",
    "start_range = 1\n",
    "end_range = 100\n",
    "randomEven = random_even(start_range, end_range)\n",
    "print(f\"Random even integer between {start_range} and {end_range}: {randomEven}\")"
   ]
  },
  {
   "cell_type": "code",
   "execution_count": 1,
   "id": "9e4ab0da",
   "metadata": {},
   "outputs": [
    {
     "name": "stdout",
     "output_type": "stream",
     "text": [
      "Enter str: ttttttdtdtdtdtdt\n",
      "Random char:t\n"
     ]
    }
   ],
   "source": [
    "import random\n",
    "\n",
    "def any_char(word):\n",
    "    return random.choice(word)\n",
    "    \n",
    "string = input(\"Enter str: \")\n",
    "print(f\"Random char:{any_char(string)}\")"
   ]
  },
  {
   "cell_type": "code",
   "execution_count": 2,
   "id": "74f86a2d",
   "metadata": {},
   "outputs": [
    {
     "name": "stdout",
     "output_type": "stream",
     "text": [
      "Unique random numbers: [88, 86, 92, 32, 78]\n"
     ]
    }
   ],
   "source": [
    "import random\n",
    "\n",
    "def generate_unique_numbers(k):\n",
    "    unique_numbers = random.sample(range(101), k)\n",
    "    return unique_numbers\n",
    "\n",
    "k = 5\n",
    "unique_numbers = generate_unique_numbers(k)\n",
    "print(\"Unique random numbers:\", unique_numbers)\n"
   ]
  },
  {
   "cell_type": "code",
   "execution_count": 1,
   "id": "64f616ee",
   "metadata": {},
   "outputs": [
    {
     "name": "stdout",
     "output_type": "stream",
     "text": [
      "\n",
      "Menu:\n",
      "1) Add a new word as entry\n",
      "2) Search a word\n",
      "3) Find words with same meaning\n",
      "4) Remove an entry\n",
      "5) Display\n",
      "Enter your choice: 1\n",
      "Enter the word: gcfgc\n",
      "Enter the meaning: cfx\n",
      "Entry added successfully.\n",
      "Continue?  (y)/(n): n\n",
      "Exiting...\n"
     ]
    }
   ],
   "source": [
    "\n",
    "word_meaning_dict = {}\n",
    "\n",
    "def add_entry(word, meaning):\n",
    "    if word in word_meaning_dict:\n",
    "        print(\"Word already exists in the dictionary.\")\n",
    "    else:\n",
    "        word_meaning_dict[word] = meaning\n",
    "        print(\"Entry added successfully.\")\n",
    "\n",
    "def search_word(word):\n",
    "    if word in word_meaning_dict:\n",
    "        print(\"Meaning of\", word + \":\", word_meaning_dict[word])\n",
    "    else:\n",
    "        print(\"Word not found in the dictionary.\")\n",
    "\n",
    "def find_word_by_meaning(meaning):\n",
    "    words = [word for word, mean in word_meaning_dict.items() if mean == meaning]\n",
    "    if words:\n",
    "        print(\"Words with the meaning\", meaning + \":\", \", \".join(words))\n",
    "    else:\n",
    "        print(\"No words found with the specified meaning.\")\n",
    "\n",
    "def remove_entry(word):\n",
    "    if word in word_meaning_dict:\n",
    "        del word_meaning_dict[word]\n",
    "        print(\"Entry removed successfully.\")\n",
    "    else:\n",
    "        print(\"Word not found in the dictionary.\")\n",
    "\n",
    "def display_sorted_words():\n",
    "    sorted_words = sorted(word_meaning_dict.keys())\n",
    "    print(\"Words in the dictionary (sorted alphabetically):\")\n",
    "    for word in sorted_words:\n",
    "        print(word + \":\", word_meaning_dict[word])\n",
    "\n",
    "def display_menu():\n",
    "    print(\"\\nMenu:\")\n",
    "    print(\"1) Add a new word as entry\")\n",
    "    print(\"2) Search a word\")\n",
    "    print(\"3) Find words with same meaning\")\n",
    "    print(\"4) Remove an entry\")\n",
    "    print(\"5) Display\")\n",
    "#     print(\"6) Exit\")\n",
    "\n",
    "conti = \"y\"\n",
    "\n",
    "while conti==\"y\":\n",
    "    display_menu()\n",
    "    choice = input(\"Enter your choice: \")\n",
    "        \n",
    "    if choice == '1':\n",
    "        word = input(\"Enter the word: \")\n",
    "        meaning = input(\"Enter the meaning: \")\n",
    "        add_entry(word, meaning)\n",
    "    elif choice == '2':\n",
    "        word = input(\"Enter the word to search: \")\n",
    "        search_word(word)\n",
    "    elif choice == '3':\n",
    "        meaning = input(\"Enter the meaning to search: \")\n",
    "        find_word_by_meaning(meaning)\n",
    "    elif choice == '4':\n",
    "        word = input(\"Enter the word to remove: \")\n",
    "        remove_entry(word)\n",
    "    elif choice == '5':\n",
    "        display_sorted_words()\n",
    "    else:\n",
    "        print(\"Invalid choice. Please enter a valid option.\")\n",
    "\n",
    "    conti = input(\"Continue?  (y)/(n): \")\n",
    "        \n",
    "    if conti == \"n\":\n",
    "        print(\"Exiting...\")\n",
    "    \n",
    "        "
   ]
  },
  {
   "cell_type": "code",
   "execution_count": null,
   "id": "7bbabb8b",
   "metadata": {},
   "outputs": [],
   "source": []
  }
 ],
 "metadata": {
  "kernelspec": {
   "display_name": "Python 3 (ipykernel)",
   "language": "python",
   "name": "python3"
  },
  "language_info": {
   "codemirror_mode": {
    "name": "ipython",
    "version": 3
   },
   "file_extension": ".py",
   "mimetype": "text/x-python",
   "name": "python",
   "nbconvert_exporter": "python",
   "pygments_lexer": "ipython3",
   "version": "3.8.10"
  }
 },
 "nbformat": 4,
 "nbformat_minor": 5
}
