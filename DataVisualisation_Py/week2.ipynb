{
 "cells": [
  {
   "cell_type": "code",
   "execution_count": 1,
   "id": "0513af47",
   "metadata": {},
   "outputs": [
    {
     "name": "stdout",
     "output_type": "stream",
     "text": [
      "ELIGIBLE TO VOTE\n"
     ]
    }
   ],
   "source": [
    "def eligibility(age):\n",
    "    if(age>=18):\n",
    "        print(\"ELIGIBLE TO VOTE\")\n",
    "    else:\n",
    "        print(\"INELIGIBLE TO VOTE\")\n",
    "        \n",
    "eligibility(18)"
   ]
  },
  {
   "cell_type": "code",
   "execution_count": 4,
   "id": "40a9beee",
   "metadata": {},
   "outputs": [
    {
     "name": "stdout",
     "output_type": "stream",
     "text": [
      "ENTER FIRST NUM: 1\n",
      "ENTER SECOND NUM: 2\n",
      "ENTER OPERAND: +\n",
      "SUM:  3\n"
     ]
    }
   ],
   "source": [
    "num1= int(input(\"ENTER FIRST NUM: \"))\n",
    "num2= int(input(\"ENTER SECOND NUM: \"))\n",
    "\n",
    "key = input(\"ENTER OPERAND: \")[0] \n",
    "\n",
    "if(key=='+'):\n",
    "    print(\"SUM: \", num1+num2)\n",
    "elif(key=='-'):\n",
    "    print(\"DIFFERENCE: \", num1-num2)\n",
    "elif(key=='*'):\n",
    "    print(\"PRODUCT: \", num1*num2)\n",
    "elif(key=='/'):\n",
    "    print(\"QUOTIENT: \", num1/num2)\n",
    "else:\n",
    "    print(\"WRONG OPERAND\")\n",
    "    "
   ]
  },
  {
   "cell_type": "code",
   "execution_count": 10,
   "id": "bd7fa4e6",
   "metadata": {},
   "outputs": [
    {
     "name": "stdout",
     "output_type": "stream",
     "text": [
      "INVALID MARKS\n"
     ]
    }
   ],
   "source": [
    "def calGrade(grades):\n",
    "    sum=0\n",
    "    for i in grades:\n",
    "        sum+=i\n",
    "    if(sum>100):\n",
    "        print(\"INVALID MARKS\")\n",
    "    elif(sum>=90 and sum<=100):\n",
    "        print(\"GRADE: S\")\n",
    "    elif(sum>=80 and sum<90):\n",
    "        print(\"GRADE: A\")\n",
    "    elif(sum>=70 and sum<80):\n",
    "        print(\"GRADE: B\")\n",
    "    elif(sum>=60 and sum<70):\n",
    "        print(\"GRADE: C\")\n",
    "    elif(sum>=50 and sum<60):\n",
    "        print(\"GRADE: D\")\n",
    "    elif(sum>=40 and sum<50):\n",
    "        print(\"GRADE: E\")\n",
    "    else:\n",
    "        print(\"GRADE: FAIL\")\n",
    "        \n",
    "grades=[10, 20, 30, 50]    \n",
    "calGrade(grades)"
   ]
  },
  {
   "cell_type": "code",
   "execution_count": 12,
   "id": "d47a203f",
   "metadata": {},
   "outputs": [
    {
     "name": "stdout",
     "output_type": "stream",
     "text": [
      "120\n"
     ]
    }
   ],
   "source": [
    "def fac(n):\n",
    "    fact=1\n",
    "    while(n):\n",
    "        fact*=n\n",
    "        n=n-1\n",
    "    return fact\n",
    "\n",
    "print(fac(5))"
   ]
  },
  {
   "cell_type": "code",
   "execution_count": 1,
   "id": "0f5f81ea",
   "metadata": {},
   "outputs": [
    {
     "name": "stdout",
     "output_type": "stream",
     "text": [
      "2\n",
      "3\n",
      "5\n",
      "7\n"
     ]
    }
   ],
   "source": [
    "def prime(n):\n",
    "    if(n<=0 or n==1):\n",
    "        return False\n",
    "    \n",
    "    for i in range(2, n):\n",
    "        if(n%i==0):\n",
    "            return False\n",
    "    return True\n",
    "        \n",
    "\n",
    "def dispPrimeNos(n):\n",
    "    for i in range(1, n+1):\n",
    "        if(prime(i)):\n",
    "            print(i)\n",
    "\n",
    "dispPrimeNos(10)"
   ]
  },
  {
   "cell_type": "code",
   "execution_count": null,
   "id": "e766912b",
   "metadata": {},
   "outputs": [],
   "source": []
  },
  {
   "cell_type": "code",
   "execution_count": null,
   "id": "0e9950ca",
   "metadata": {},
   "outputs": [],
   "source": []
  },
  {
   "cell_type": "code",
   "execution_count": null,
   "id": "9b6de54a",
   "metadata": {},
   "outputs": [],
   "source": []
  },
  {
   "cell_type": "code",
   "execution_count": 4,
   "id": "e7cb085b",
   "metadata": {},
   "outputs": [
    {
     "name": "stdout",
     "output_type": "stream",
     "text": [
      "10 ISNT AN ARMSTRONG NO.\n"
     ]
    }
   ],
   "source": [
    "def armstrongNo(n):\n",
    "    cubeSumOfDig=0\n",
    "    n1=n\n",
    "    while(n):\n",
    "        cubeSumOfDig += (n%10)**3\n",
    "        n//=10\n",
    "    if(cubeSumOfDig==n1):\n",
    "        print(n1, \"IS AN ARMSTRONG NO.\")\n",
    "    else:\n",
    "        print(n1, \"ISNT AN ARMSTRONG NO.\")\n",
    "\n",
    "\n",
    "armstrongNo(10)"
   ]
  },
  {
   "cell_type": "code",
   "execution_count": null,
   "id": "914042b2",
   "metadata": {},
   "outputs": [],
   "source": []
  },
  {
   "cell_type": "code",
   "execution_count": 8,
   "id": "c95bb44f",
   "metadata": {},
   "outputs": [
    {
     "name": "stdout",
     "output_type": "stream",
     "text": [
      "* \n",
      "* * \n",
      "* * * \n",
      "* * * * \n",
      "* * * * * \n",
      "* * * * \n",
      "* * * \n",
      "* * \n",
      "* \n"
     ]
    }
   ],
   "source": [
    "def pattern(n):\n",
    "    for i in range(n):\n",
    "        for j in range(i+1):\n",
    "            print(\"*\", end=\" \")\n",
    "        print(\"\")\n",
    "    for i in range(n-1, 0, -1):\n",
    "        for j in range(i):\n",
    "            print(\"*\", end=\" \")\n",
    "        print(\"\")\n",
    "\n",
    "pattern(5)"
   ]
  },
  {
   "cell_type": "code",
   "execution_count": 7,
   "id": "5b7b0cde",
   "metadata": {},
   "outputs": [
    {
     "name": "stdout",
     "output_type": "stream",
     "text": [
      "Guess the No In the range of 1, 100\n",
      "ENTER THE NO: 2134\n",
      "LITTLE LOWER!\n",
      "ENTER THE NO: 242\n",
      "LITTLE LOWER!\n",
      "ENTER THE NO: 12121\n",
      "LITTLE LOWER!\n",
      "ENTER THE NO: 21342341\n",
      "LITTLE LOWER!\n",
      "ENTER THE NO: 12421\n",
      "LITTLE LOWER!\n",
      "POOR PERFORMANCE! BETTER LUCK NEXT TIME!\n"
     ]
    }
   ],
   "source": [
    "import random\n",
    "\n",
    "n=random.randint(1, 101)\n",
    "cnt=0\n",
    "guessNo=0\n",
    "print(\"Guess the No In the range of 1, 100\")\n",
    "while(cnt<5 or n==guessNo):\n",
    "    guessNo=int(input(\"ENTER THE NO: \"))\n",
    "    if(guessNo==n):\n",
    "        print(\"CONGRATS! WELL GUESSED!\")\n",
    "        break\n",
    "    elif(guessNo<n):\n",
    "        print(\"LITTLE HIGHER!\")\n",
    "    elif(guessNo>n):\n",
    "        print(\"LITTLE LOWER!\")\n",
    "    cnt=cnt+1\n",
    "if(cnt==5):\n",
    "    print(\"POOR PERFORMANCE! BETTER LUCK NEXT TIME!\")"
   ]
  },
  {
   "cell_type": "markdown",
   "id": "3d467330",
   "metadata": {},
   "source": [
    "##### 4###### "
   ]
  }
 ],
 "metadata": {
  "kernelspec": {
   "display_name": "Python 3 (ipykernel)",
   "language": "python",
   "name": "python3"
  },
  "language_info": {
   "codemirror_mode": {
    "name": "ipython",
    "version": 3
   },
   "file_extension": ".py",
   "mimetype": "text/x-python",
   "name": "python",
   "nbconvert_exporter": "python",
   "pygments_lexer": "ipython3",
   "version": "3.8.10"
  }
 },
 "nbformat": 4,
 "nbformat_minor": 5
}
